{
 "cells": [
  {
   "cell_type": "code",
   "execution_count": 1,
   "metadata": {
    "colab": {
     "base_uri": "https://localhost:8080/"
    },
    "executionInfo": {
     "elapsed": 4874,
     "status": "ok",
     "timestamp": 1676555090469,
     "user": {
      "displayName": "VARADALAKSHMI NAMBIAR",
      "userId": "13429607434180217409"
     },
     "user_tz": -330
    },
    "id": "LH4ZnGV-USt3",
    "outputId": "dea3a21f-8560-425a-951a-bf5e95cb6f4e"
   },
   "outputs": [
    {
     "name": "stdout",
     "output_type": "stream",
     "text": [
      "<class 'pandas.core.frame.DataFrame'>\n",
      "RangeIndex: 4176 entries, 0 to 4175\n",
      "Data columns (total 5 columns):\n",
      " #   Column      Non-Null Count  Dtype  \n",
      "---  ------      --------------  -----  \n",
      " 0   Unnamed: 0  4176 non-null   int64  \n",
      " 1   Date        4176 non-null   object \n",
      " 2   Summary     4176 non-null   object \n",
      " 3   Label       4176 non-null   float64\n",
      " 4   Close       4176 non-null   float64\n",
      "dtypes: float64(2), int64(1), object(2)\n",
      "memory usage: 163.2+ KB\n"
     ]
    },
    {
     "data": {
      "text/plain": [
       "1.0    2208\n",
       "0.0    1968\n",
       "Name: Label, dtype: int64"
      ]
     },
     "execution_count": 1,
     "metadata": {},
     "output_type": "execute_result"
    }
   ],
   "source": [
    "import numpy as np\n",
    "import pandas as pd\n",
    "import os\n",
    "\n",
    "cwd = os.getcwd()\n",
    "\n",
    "# Convert the data into Python dataframe.\n",
    "finance_dataset = pd.read_csv(f\"{cwd}/labelled_news.csv\")\n",
    "# total number of rows, each attribute type and number of non null values\n",
    "finance_dataset.info()\n",
    "\n",
    "# How many categories exists and how much data belong to each category\n",
    "finance_dataset['Label'].value_counts()"
   ]
  },
  {
   "cell_type": "code",
   "execution_count": 2,
   "metadata": {
    "executionInfo": {
     "elapsed": 613,
     "status": "ok",
     "timestamp": 1676555091078,
     "user": {
      "displayName": "VARADALAKSHMI NAMBIAR",
      "userId": "13429607434180217409"
     },
     "user_tz": -330
    },
    "id": "RQ9t7aEIUqXD"
   },
   "outputs": [],
   "source": [
    "from nltk.tokenize import word_tokenize\n",
    "from nltk.corpus import stopwords\n",
    "from nltk.stem import WordNetLemmatizer, PorterStemmer\n",
    "from sklearn.model_selection import train_test_split\n",
    "from sklearn.feature_extraction.text import TfidfVectorizer\n",
    "from sklearn.metrics import *\n",
    "from sklearn.metrics import accuracy_score\n",
    "\n",
    "def clean_data(data):\n",
    "    #removes the rows that contains NULL values and inplace modifies the original datset instead of creating anew one\n",
    "    summarised_data = data\n",
    "    summarised_data.dropna(inplace=True)\n",
    "    #Change all the text to lower case. This is required as python interprets lowercase and uppercase differently\n",
    "    summarised_data = [entry.lower() for entry in summarised_data]\n",
    "    #Tokenization : In this each entry in the corpus will be broken into set of words\n",
    "    summarised_data = [word_tokenize(entry) for entry in summarised_data]\n",
    "    #Remove stopwords\n",
    "    english_stop_words=set(stopwords.words(\"english\"))\n",
    "    summarised_data=list(map(lambda l: list(filter(lambda summarised_data: summarised_data not in english_stop_words, l)), summarised_data))\n",
    "    # Lemmatisation. This is required to convert the word into root form\n",
    "    wordnet_lemmatizer = WordNetLemmatizer()\n",
    "    summarised_data=list(map(lambda l: list(filter(lambda summarised_data: summarised_data in wordnet_lemmatizer.lemmatize(summarised_data), l)), summarised_data))\n",
    "    summarised_words_list = summarised_data\n",
    "    # convert list to string\n",
    "    summarised_data = [' '.join(map(str, l)) for l in summarised_data]\n",
    "    return summarised_data, summarised_words_list"
   ]
  },
  {
   "cell_type": "code",
   "execution_count": 3,
   "metadata": {
    "colab": {
     "base_uri": "https://localhost:8080/"
    },
    "executionInfo": {
     "elapsed": 11774,
     "status": "ok",
     "timestamp": 1676555102847,
     "user": {
      "displayName": "VARADALAKSHMI NAMBIAR",
      "userId": "13429607434180217409"
     },
     "user_tz": -330
    },
    "id": "LGadmVtnUzYe",
    "outputId": "56310e96-3a45-4a69-8aa7-f9dab697043d"
   },
   "outputs": [
    {
     "name": "stdout",
     "output_type": "stream",
     "text": [
      "<class 'pandas.core.frame.DataFrame'>\n",
      "RangeIndex: 4176 entries, 0 to 4175\n",
      "Data columns (total 7 columns):\n",
      " #   Column                   Non-Null Count  Dtype  \n",
      "---  ------                   --------------  -----  \n",
      " 0   Unnamed: 0               4176 non-null   int64  \n",
      " 1   Date                     4176 non-null   object \n",
      " 2   Summary                  4176 non-null   object \n",
      " 3   Label                    4176 non-null   float64\n",
      " 4   Close                    4176 non-null   float64\n",
      " 5   preprocessed_text        4176 non-null   object \n",
      " 6   preprocessed_words_list  4176 non-null   object \n",
      "dtypes: float64(2), int64(1), object(4)\n",
      "memory usage: 228.5+ KB\n"
     ]
    },
    {
     "data": {
      "text/plain": [
       "1.0    2208\n",
       "0.0    1968\n",
       "Name: Label, dtype: int64"
      ]
     },
     "execution_count": 3,
     "metadata": {},
     "output_type": "execute_result"
    }
   ],
   "source": [
    "import nltk\n",
    "# nltk.download('punkt')\n",
    "# nltk.download('stopwords')\n",
    "# nltk.download('wordnet')\n",
    "# nltk.download('omw-1.4')\n",
    "\n",
    "summarised_data, summarised_words_list = clean_data(finance_dataset['Summary'])\n",
    "finance_dataset['preprocessed_text'] = summarised_data\n",
    "finance_dataset['preprocessed_words_list'] = summarised_words_list\n",
    "finance_dataset.info()\n",
    "finance_dataset['Label'].value_counts()"
   ]
  },
  {
   "cell_type": "code",
   "execution_count": 4,
   "metadata": {
    "colab": {
     "base_uri": "https://localhost:8080/",
     "height": 282
    },
    "executionInfo": {
     "elapsed": 11,
     "status": "ok",
     "timestamp": 1676555102847,
     "user": {
      "displayName": "VARADALAKSHMI NAMBIAR",
      "userId": "13429607434180217409"
     },
     "user_tz": -330
    },
    "id": "4nCF44u6VM78",
    "outputId": "9f2dcab1-79da-4283-8c42-adc3c228ac36"
   },
   "outputs": [
    {
     "data": {
      "text/plain": [
       "<AxesSubplot:>"
      ]
     },
     "execution_count": 4,
     "metadata": {},
     "output_type": "execute_result"
    },
    {
     "data": {
      "image/png": "[encoded data removed]",
      "text/plain": [
       "<Figure size 432x288 with 1 Axes>"
      ]
     },
     "metadata": {
      "needs_background": "light"
     },
     "output_type": "display_data"
    }
   ],
   "source": [
    "finance_dataset['Label'].hist()"
   ]
  },
  {
   "cell_type": "code",
   "execution_count": 5,
   "metadata": {
    "colab": {
     "base_uri": "https://localhost:8080/"
    },
    "executionInfo": {
     "elapsed": 7899,
     "status": "ok",
     "timestamp": 1676555110740,
     "user": {
      "displayName": "VARADALAKSHMI NAMBIAR",
      "userId": "13429607434180217409"
     },
     "user_tz": -330
    },
    "id": "w3e2teaPVXq8",
    "outputId": "38e2fbb1-a0cd-4b9b-a3a8-767150af4e6a"
   },
   "outputs": [
    {
     "name": "stderr",
     "output_type": "stream",
     "text": [
      "2023-03-10 09:35:24.806999: I tensorflow/core/platform/cpu_feature_guard.cc:193] This TensorFlow binary is optimized with oneAPI Deep Neural Network Library (oneDNN) to use the following CPU instructions in performance-critical operations:  AVX2 AVX512F AVX512_VNNI FMA\n",
      "To enable them in other operations, rebuild TensorFlow with the appropriate compiler flags.\n",
      "2023-03-10 09:35:25.106458: I tensorflow/core/util/util.cc:169] oneDNN custom operations are on. You may see slightly different numerical results due to floating-point round-off errors from different computation orders. To turn them off, set the environment variable `TF_ENABLE_ONEDNN_OPTS=0`.\n",
      "2023-03-10 09:35:25.156580: W tensorflow/stream_executor/platform/default/dso_loader.cc:64] Could not load dynamic library 'libcudart.so.11.0'; dlerror: libcudart.so.11.0: cannot open shared object file: No such file or directory\n",
      "2023-03-10 09:35:25.156611: I tensorflow/stream_executor/cuda/cudart_stub.cc:29] Ignore above cudart dlerror if you do not have a GPU set up on your machine.\n",
      "2023-03-10 09:35:25.225725: E tensorflow/stream_executor/cuda/cuda_blas.cc:2981] Unable to register cuBLAS factory: Attempting to register factory for plugin cuBLAS when one has already been registered\n",
      "2023-03-10 09:35:26.173936: W tensorflow/stream_executor/platform/default/dso_loader.cc:64] Could not load dynamic library 'libnvinfer.so.7'; dlerror: libnvinfer.so.7: cannot open shared object file: No such file or directory\n",
      "2023-03-10 09:35:26.174163: W tensorflow/stream_executor/platform/default/dso_loader.cc:64] Could not load dynamic library 'libnvinfer_plugin.so.7'; dlerror: libnvinfer_plugin.so.7: cannot open shared object file: No such file or directory\n",
      "2023-03-10 09:35:26.174178: W tensorflow/compiler/tf2tensorrt/utils/py_utils.cc:38] TF-TRT Warning: Cannot dlopen some TensorRT libraries. If you would like to use Nvidia GPU with TensorRT, please make sure the missing libraries mentioned above are installed properly.\n"
     ]
    },
    {
     "data": {
      "text/plain": [
       "array([[1., 0.],\n",
       "       [1., 0.],\n",
       "       [0., 1.],\n",
       "       ...,\n",
       "       [0., 1.],\n",
       "       [1., 0.],\n",
       "       [1., 0.]], dtype=float32)"
      ]
     },
     "execution_count": 5,
     "metadata": {},
     "output_type": "execute_result"
    }
   ],
   "source": [
    "from sklearn.preprocessing import LabelEncoder\n",
    "from keras.utils.np_utils import to_categorical\n",
    "\n",
    "l_encode = LabelEncoder()\n",
    "l_encode.fit(finance_dataset['Label'])\n",
    "y = l_encode.transform(finance_dataset['Label'])\n",
    "y = to_categorical(y)\n",
    "y"
   ]
  },
  {
   "cell_type": "code",
   "execution_count": 6,
   "metadata": {
    "executionInfo": {
     "elapsed": 8,
     "status": "ok",
     "timestamp": 1676555110741,
     "user": {
      "displayName": "VARADALAKSHMI NAMBIAR",
      "userId": "13429607434180217409"
     },
     "user_tz": -330
    },
    "id": "fQVAcLjLVbFp"
   },
   "outputs": [],
   "source": [
    "from scipy import spatial\n",
    "import matplotlib.pyplot as plt\n",
    "from sklearn.manifold import TSNE\n",
    "from keras.preprocessing.text import Tokenizer\n",
    "from tensorflow.keras.preprocessing.sequence import pad_sequences\n",
    "from nltk.tokenize import word_tokenize\n"
   ]
  },
  {
   "cell_type": "code",
   "execution_count": 7,
   "metadata": {
    "colab": {
     "base_uri": "https://localhost:8080/"
    },
    "executionInfo": {
     "elapsed": 4523,
     "status": "ok",
     "timestamp": 1676555115257,
     "user": {
      "displayName": "VARADALAKSHMI NAMBIAR",
      "userId": "13429607434180217409"
     },
     "user_tz": -330
    },
    "id": "YEQyRjWNVep7",
    "outputId": "c648e6b2-7b92-4947-993f-0e2038c2fb3f"
   },
   "outputs": [
    {
     "name": "stdout",
     "output_type": "stream",
     "text": [
      "X train size =  (3340,)\n",
      "Y train size =  (3340, 2)\n",
      "X test size =  (836,)\n",
      "Y test size =  (836, 2)\n",
      "vocab_length 11918\n",
      "train_padded_sentences shape (3340, 256)\n"
     ]
    }
   ],
   "source": [
    "x = finance_dataset['preprocessed_text']\n",
    "x_train,x_test,y_train,y_test= train_test_split(x, y, test_size = 0.20, stratify=y, random_state = 58)\n",
    "print('X train size = ' , x_train.shape)\n",
    "print('Y train size = ' , y_train.shape)\n",
    "print('X test size = ' , x_test.shape)\n",
    "print('Y test size = ' , y_test.shape)\n",
    "\n",
    "texts =x_train\n",
    "word_tokenizer = Tokenizer()\n",
    "word_tokenizer.fit_on_texts(texts)\n",
    "\n",
    "vocab_length = len(word_tokenizer.word_index) + 1\n",
    "print('vocab_length', vocab_length)\n",
    "\n",
    "\n",
    "def embed(corpus, word_tokenizer): \n",
    "    return word_tokenizer.texts_to_sequences(corpus)\n",
    "\n",
    "longest_train = max(texts, key=lambda sentence: len(word_tokenize(sentence)))\n",
    "length_long_sentence = len(word_tokenize(longest_train))\n",
    "train_padded_sentences = pad_sequences(\n",
    "    embed(texts, word_tokenizer), \n",
    "    256, \n",
    "    padding='post'\n",
    ")\n",
    "\n",
    "print('train_padded_sentences shape' , train_padded_sentences.shape)\n"
   ]
  },
  {
   "cell_type": "code",
   "execution_count": 8,
   "metadata": {
    "colab": {
     "base_uri": "https://localhost:8080/"
    },
    "executionInfo": {
     "elapsed": 10394,
     "status": "ok",
     "timestamp": 1676555125647,
     "user": {
      "displayName": "VARADALAKSHMI NAMBIAR",
      "userId": "13429607434180217409"
     },
     "user_tz": -330
    },
    "id": "CxWEHzLwWMM6",
    "outputId": "28c58ca8-cc74-48f7-a578-9c11c82ae2f9"
   },
   "outputs": [
    {
     "data": {
      "text/plain": [
       "(11918, 50)"
      ]
     },
     "execution_count": 8,
     "metadata": {},
     "output_type": "execute_result"
    }
   ],
   "source": [
    "embeddings_dictionary = dict()\n",
    "embedding_dim = 50\n",
    "\n",
    "# Load GloVe 50D embeddings\n",
    "\n",
    "with open('/home/varada/Documents/00_SEMESTER4/stock_prediction/binary/glove.6B/glove.6B.50d.txt') as fp:\n",
    "# with open('/home/varada/Documents/categorisation/set_1/glove.42B.300d.txt') as fp:\n",
    "    for line in fp.readlines():\n",
    "        records = line.split()\n",
    "        word = records[0]\n",
    "        vector_dimensions = np.asarray(records[1:], dtype='float32')\n",
    "        embeddings_dictionary [word] = vector_dimensions\n",
    "\n",
    "# Now we will load embedding vectors of those words that appear in the\n",
    "# Glove dictionary. Others will be initialized to 0.\n",
    "\n",
    "embedding_matrix = np.zeros((vocab_length, embedding_dim))\n",
    "\n",
    "for word, index in word_tokenizer.word_index.items():\n",
    "    embedding_vector = embeddings_dictionary.get(word)\n",
    "    if embedding_vector is not None:\n",
    "        embedding_matrix[index] = embedding_vector\n",
    "        \n",
    "embedding_matrix.shape"
   ]
  },
  {
   "cell_type": "code",
   "execution_count": 9,
   "metadata": {
    "colab": {
     "base_uri": "https://localhost:8080/"
    },
    "executionInfo": {
     "elapsed": 1114,
     "status": "ok",
     "timestamp": 1676557370670,
     "user": {
      "displayName": "VARADALAKSHMI NAMBIAR",
      "userId": "13429607434180217409"
     },
     "user_tz": -330
    },
    "id": "8J-lN_FAWgdH",
    "outputId": "98635e6c-3df6-4db1-e9d1-37d115da6f11"
   },
   "outputs": [
    {
     "name": "stderr",
     "output_type": "stream",
     "text": [
      "2023-03-10 09:35:31.769472: W tensorflow/stream_executor/platform/default/dso_loader.cc:64] Could not load dynamic library 'libcuda.so.1'; dlerror: libcuda.so.1: cannot open shared object file: No such file or directory\n",
      "2023-03-10 09:35:31.769667: W tensorflow/stream_executor/cuda/cuda_driver.cc:263] failed call to cuInit: UNKNOWN ERROR (303)\n",
      "2023-03-10 09:35:31.769686: I tensorflow/stream_executor/cuda/cuda_diagnostics.cc:156] kernel driver does not appear to be running on this host (QB-CLT-1107): /proc/driver/nvidia/version does not exist\n",
      "2023-03-10 09:35:31.770084: I tensorflow/core/platform/cpu_feature_guard.cc:193] This TensorFlow binary is optimized with oneAPI Deep Neural Network Library (oneDNN) to use the following CPU instructions in performance-critical operations:  AVX2 AVX512F AVX512_VNNI FMA\n",
      "To enable them in other operations, rebuild TensorFlow with the appropriate compiler flags.\n"
     ]
    },
    {
     "name": "stdout",
     "output_type": "stream",
     "text": [
      "Model: \"model\"\n",
      "_________________________________________________________________\n",
      " Layer (type)                Output Shape              Param #   \n",
      "=================================================================\n",
      " preprocessed_text (InputLay  [(None, None)]           0         \n",
      " er)                                                             \n",
      "                                                                 \n",
      " embedding (Embedding)       (None, None, 50)          595900    \n",
      "                                                                 \n",
      " bidirectional (Bidirectiona  (None, None, 512)        628736    \n",
      " l)                                                              \n",
      "                                                                 \n",
      " bidirectional_1 (Bidirectio  (None, None, 256)        656384    \n",
      " nal)                                                            \n",
      "                                                                 \n",
      " bidirectional_2 (Bidirectio  (None, 128)              164352    \n",
      " nal)                                                            \n",
      "                                                                 \n",
      " Label (Dense)               (None, 2)                 258       \n",
      "                                                                 \n",
      "=================================================================\n",
      "Total params: 2,045,630\n",
      "Trainable params: 1,449,730\n",
      "Non-trainable params: 595,900\n",
      "_________________________________________________________________\n"
     ]
    }
   ],
   "source": [
    "from tensorflow import keras\n",
    "from tensorflow.keras.initializers import Constant\n",
    "import numpy as np\n",
    "import tensorflow as tf\n",
    "\n",
    "tf.random.set_seed(8634)\n",
    "\n",
    "text_input = keras.layers.Input(shape=(None,), name=\"preprocessed_text\")\n",
    "\n",
    "# Embed each word in the title into a embedding_dim-dimensional vector\n",
    "text_features = keras.layers.Embedding(vocab_length,embedding_dim,embeddings_initializer=Constant(embedding_matrix),input_length=embedding_dim,trainable=False)(text_input)\n",
    "\n",
    "# Reduce sequence of embedded words in the positive_text into a single length_long_sentence-dimensional vector\n",
    "text_features = keras.layers.Bidirectional(keras.layers.LSTM(256, return_sequences=True, dropout=0.1, recurrent_dropout=0.1))(text_features)\n",
    "layer_2 = keras.layers.Bidirectional(keras.layers.LSTM(128, dropout=0.1, recurrent_dropout=0.1, return_sequences=True))(text_features)\n",
    "layer_3 = keras.layers.Bidirectional(keras.layers.LSTM(64, dropout=0.1, recurrent_dropout=0.1))(layer_2)\n",
    "\n",
    "\n",
    "label_pred = keras.layers.Dense(2,  activation='softmax', name=\"Label\")(layer_3)\n",
    "\n",
    "# Instantiate an end-to-end model predicting both priority and department\n",
    "model = keras.Model(\n",
    "    inputs=[text_input],\n",
    "    outputs=[label_pred],\n",
    ")\n",
    "optimzer=keras.optimizers.Adam(learning_rate=3e-4)\n",
    "model.compile(loss='categorical_crossentropy', optimizer='adam', metrics=['accuracy'])\n",
    "model.summary()\n",
    "\n"
   ]
  },
  {
   "cell_type": "code",
   "execution_count": 14,
   "metadata": {
    "colab": {
     "base_uri": "https://localhost:8080/"
    },
    "executionInfo": {
     "elapsed": 2074167,
     "status": "ok",
     "timestamp": 1676561131681,
     "user": {
      "displayName": "VARADALAKSHMI NAMBIAR",
      "userId": "13429607434180217409"
     },
     "user_tz": -330
    },
    "id": "gSbUEYVaZh7K",
    "outputId": "6dc7b69c-bf3b-4167-a783-940939964aca",
    "scrolled": true
   },
   "outputs": [
    {
     "name": "stdout",
     "output_type": "stream",
     "text": [
      "Epoch 1/10\n",
      "84/84 [==============================] - 156s 2s/step - loss: 0.6160 - accuracy: 0.6609 - val_loss: 0.8149 - val_accuracy: 0.5060\n",
      "Epoch 2/10\n",
      "84/84 [==============================] - 167s 2s/step - loss: 0.5688 - accuracy: 0.6935 - val_loss: 0.8488 - val_accuracy: 0.4985\n",
      "Epoch 3/10\n",
      "84/84 [==============================] - 164s 2s/step - loss: 0.5354 - accuracy: 0.7246 - val_loss: 0.8486 - val_accuracy: 0.4925\n",
      "Epoch 4/10\n",
      "84/84 [==============================] - 169s 2s/step - loss: 0.4829 - accuracy: 0.7601 - val_loss: 0.9323 - val_accuracy: 0.5135\n",
      "Epoch 5/10\n",
      "84/84 [==============================] - 161s 2s/step - loss: 0.4318 - accuracy: 0.7930 - val_loss: 1.0671 - val_accuracy: 0.5090\n",
      "Epoch 6/10\n",
      "84/84 [==============================] - 155s 2s/step - loss: 0.3570 - accuracy: 0.8290 - val_loss: 1.2040 - val_accuracy: 0.4940\n",
      "Epoch 7/10\n",
      "84/84 [==============================] - 150s 2s/step - loss: 0.2959 - accuracy: 0.8701 - val_loss: 1.3220 - val_accuracy: 0.5090\n",
      "Epoch 8/10\n",
      "84/84 [==============================] - 150s 2s/step - loss: 0.2489 - accuracy: 0.8930 - val_loss: 1.2752 - val_accuracy: 0.4955\n",
      "Epoch 9/10\n",
      "84/84 [==============================] - 150s 2s/step - loss: 0.1921 - accuracy: 0.9218 - val_loss: 1.5476 - val_accuracy: 0.4970\n",
      "Epoch 10/10\n",
      "84/84 [==============================] - 150s 2s/step - loss: 0.1482 - accuracy: 0.9427 - val_loss: 1.6903 - val_accuracy: 0.5000\n",
      "21/21 [==============================] - 6s 289ms/step\n"
     ]
    }
   ],
   "source": [
    "x_train_emb,x_valid_emb,y_train_emb,y_valid_emb = train_test_split(train_padded_sentences,y_train,test_size=0.2, random_state=42)\n",
    "\n",
    "\n",
    "history = model.fit(x=[x_train_emb], y=y_train_emb, \n",
    "          validation_data=([x_valid_emb], y_valid_emb), epochs=10, batch_size=32, verbose=1)\n",
    "preds =model.predict(x=[x_valid_emb])\n",
    "# # print(preds)\n",
    "# print(x_train_emb.shape, x_pos_score_train.shape, x_neg_score_train.shape, y_pos_score_valid.shape)"
   ]
  },
  {
   "cell_type": "code",
   "execution_count": 15,
   "metadata": {
    "colab": {
     "base_uri": "https://localhost:8080/"
    },
    "executionInfo": {
     "elapsed": 41908,
     "status": "ok",
     "timestamp": 1676564767800,
     "user": {
      "displayName": "VARADALAKSHMI NAMBIAR",
      "userId": "13429607434180217409"
     },
     "user_tz": -330
    },
    "id": "y57DeY9TdjKM",
    "outputId": "5c23332c-1d19-4dd3-bb94-277c11470fbc"
   },
   "outputs": [
    {
     "name": "stdout",
     "output_type": "stream",
     "text": [
      "21/21 [==============================] - 5s 238ms/step - loss: 1.6903 - accuracy: 0.5000\n"
     ]
    }
   ],
   "source": [
    "scores = model.evaluate([x_valid_emb], y_valid_emb)\n"
   ]
  },
  {
   "cell_type": "code",
   "execution_count": 16,
   "metadata": {},
   "outputs": [
    {
     "name": "stdout",
     "output_type": "stream",
     "text": [
      "Accuracy Score: 0.5\n",
      "\n",
      "Classification Score:\n",
      "               precision    recall  f1-score   support\n",
      "\n",
      "           0       0.46      0.44      0.45       311\n",
      "           1       0.53      0.55      0.54       357\n",
      "\n",
      "    accuracy                           0.50       668\n",
      "   macro avg       0.50      0.50      0.50       668\n",
      "weighted avg       0.50      0.50      0.50       668\n",
      "\n",
      "\n",
      "Confusion Matrix:\n",
      " [[138 173]\n",
      " [161 196]]\n"
     ]
    }
   ],
   "source": [
    "def metrics(y_true, y_pred):\n",
    "    print('Accuracy Score:', round(accuracy_score(y_true, y_pred),2))\n",
    "    print('\\nClassification Score:\\n', classification_report(y_true, y_pred))\n",
    "    print('\\nConfusion Matrix:\\n', confusion_matrix(y_true, y_pred))\n",
    "\n",
    "metrics(y_valid_emb.argmax(1), preds.argmax(1))"
   ]
  },
  {
   "cell_type": "code",
   "execution_count": 17,
   "metadata": {
    "colab": {
     "base_uri": "https://localhost:8080/",
     "height": 281
    },
    "executionInfo": {
     "elapsed": 25,
     "status": "ok",
     "timestamp": 1676564767801,
     "user": {
      "displayName": "VARADALAKSHMI NAMBIAR",
      "userId": "13429607434180217409"
     },
     "user_tz": -330
    },
    "id": "JYf74adrdsSF",
    "outputId": "fdb98865-4228-450f-ffb7-21c64aeae2b7"
   },
   "outputs": [
    {
     "data": {
      "image/png": "[encoded data removed]",
      "text/plain": [
       "<Figure size 432x288 with 1 Axes>"
      ]
     },
     "metadata": {
      "needs_background": "light"
     },
     "output_type": "display_data"
    }
   ],
   "source": [
    "plt.title('Accuracy')\n",
    "plt.plot(history.history['accuracy'], label='train')\n",
    "plt.plot(history.history['val_accuracy'], label='test')\n",
    "plt.legend()\n",
    "plt.show();"
   ]
  }
 ],
 "metadata": {
  "colab": {
   "authorship_tag": "ABX9TyMzDjZAgC4ja3qr5gPpMoje",
   "provenance": []
  },
  "kernelspec": {
   "display_name": "Python 3 (ipykernel)",
   "language": "python",
   "name": "python3"
  },
  "language_info": {
   "codemirror_mode": {
    "name": "ipython",
    "version": 3
   },
   "file_extension": ".py",
   "mimetype": "text/x-python",
   "name": "python",
   "nbconvert_exporter": "python",
   "pygments_lexer": "ipython3",
   "version": "3.9.7"
  }
 },
 "nbformat": 4,
 "nbformat_minor": 1
}
