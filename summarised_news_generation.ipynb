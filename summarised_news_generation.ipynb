{
 "cells": [
  {
   "cell_type": "code",
   "execution_count": 1,
   "metadata": {},
   "outputs": [],
   "source": [
    "import os\n",
    "import numpy as np\n",
    "import pandas as pd\n",
    "from pandas.api.types import is_datetime64_any_dtype as is_datetime\n",
    "from datetime import datetime\n"
   ]
  },
  {
   "cell_type": "code",
   "execution_count": 2,
   "metadata": {},
   "outputs": [
    {
     "name": "stdout",
     "output_type": "stream",
     "text": [
      "<class 'pandas.core.frame.DataFrame'>\n",
      "RangeIndex: 50363 entries, 0 to 50362\n",
      "Data columns (total 2 columns):\n",
      " #   Column  Non-Null Count  Dtype \n",
      "---  ------  --------------  ----- \n",
      " 0   Date    50363 non-null  object\n",
      " 1   Title   50363 non-null  object\n",
      "dtypes: object(2)\n",
      "memory usage: 787.0+ KB\n"
     ]
    }
   ],
   "source": [
    "cwd = os.getcwd()\n",
    "\n",
    "# Convert the data into Python dataframe.\n",
    "finance_dataset = pd.read_csv(f\"{cwd}/financial_news.csv\", usecols=['Date', 'Title'])\n",
    "\n",
    "# total number of rows, each attribute type and number of non null values\n",
    "finance_dataset.info()"
   ]
  },
  {
   "cell_type": "code",
   "execution_count": 3,
   "metadata": {},
   "outputs": [],
   "source": [
    "date_unique = finance_dataset['Date'].unique()\n",
    "columns=['Date', 'Summary']\n",
    "df1 = pd.DataFrame(columns = columns)\n",
    "\n",
    "for i in date_unique:\n",
    "    value = finance_dataset.loc[finance_dataset['Date'] == i]\n",
    "    summary = value.loc[:,'Title'].tolist()\n",
    "    summary = ' '.join([str(i) for i in summary])\n",
    "\n",
    "    list_d = [value['Date'].iloc[0], summary]\n",
    "    newrows = pd.DataFrame([list_d], columns=columns)\n",
    "    df1 = pd.concat([df1, newrows])\n",
    "\n",
    "df1.to_csv(f\"{cwd}/summarised_news.csv\" ,header=columns, index=False)"
   ]
  },
  {
   "cell_type": "code",
   "execution_count": 4,
   "metadata": {},
   "outputs": [
    {
     "name": "stdout",
     "output_type": "stream",
     "text": [
      "            Date                                            Summary  Label  \\\n",
      "0     2019-12-31  Third-party ATM switch ASPs to comply with cyb...    0.0   \n",
      "1     2019-12-30  MDR waiver to hit fintechs, payments companies...    0.0   \n",
      "2     2019-12-27  Impact of NBFC failures on banking system has ...    1.0   \n",
      "3     2019-12-26  Airtel Payments Bank enables NEFT, users can m...    0.0   \n",
      "4     2019-12-24  UCBs need to address weak governance, slow tec...    0.0   \n",
      "...          ...                                                ...    ...   \n",
      "4171  2003-02-17  Is The Honeymoon In The Debt Market Over? A Ch...    1.0   \n",
      "4172  2003-02-14  Panel Report On Overhaul Of Recovery Of Debts ...    0.0   \n",
      "4173  2003-02-12  Uti Bank Eyes Pref Issue As Tata Plan Hits Roa...    1.0   \n",
      "4174  2003-02-11  Crisil Scripts Risk Gauge Tool For Film Indust...    0.0   \n",
      "4175  2003-02-10  Net Scheduled Inflows Of Rs 1,559.9 Crore Rbi ...    0.0   \n",
      "\n",
      "         Close  \n",
      "0     32161.65  \n",
      "1     32354.90  \n",
      "2     32412.35  \n",
      "3     31997.70  \n",
      "4     32280.75  \n",
      "...        ...  \n",
      "4171   1327.60  \n",
      "4172   1296.70  \n",
      "4173   1306.80  \n",
      "4174   1289.70  \n",
      "4175   1291.10  \n",
      "\n",
      "[4176 rows x 4 columns]\n",
      "\n",
      "\n",
      "\n",
      "1.0    2208\n",
      "0.0    1968\n",
      "Name: Label, dtype: int64\n"
     ]
    }
   ],
   "source": [
    "df_financial_news = pd.read_csv(f\"{cwd}/summarised_news.csv\", usecols=columns)\n",
    "df_financial_stock = pd.read_csv(f\"{cwd}/2000-2019.csv\", usecols=['Date', 'Close'])\n",
    "\n",
    "def dmy_to_ymd(d):\n",
    "    return datetime.strptime(d, '%d %b %Y').strftime('%Y-%m-%d')\n",
    "\n",
    "\n",
    "for index, row in df_financial_stock.iterrows():\n",
    "    converted_date = dmy_to_ymd(row.Date)\n",
    "    df_financial_stock['Date'] = df_financial_stock['Date'].replace([row.Date], converted_date)\n",
    "\n",
    "## Method 1\n",
    "df_financial_stock['Label'] = df_financial_stock['Close'].mask(df_financial_stock.Close > df_financial_stock.Close.shift(-1), 1)\n",
    "df_financial_stock['Label'] = df_financial_stock['Label'].mask(df_financial_stock.Close <= df_financial_stock.Close.shift(-1), 0)\n",
    "df_financial_stock['Label'].values[-1:]=0\n",
    "\n",
    "## Method 2\n",
    "# rise_value = df_financial_news['Close'].shift(-1) + (0.001*df_financial_news['Close'].shift(-1))\n",
    "# df_financial_news['Label'] = np.where(df_financial_news['Close'] > rise_value, 1, 0)\n",
    "\n",
    "##Merge dataframes\n",
    "df_financial_stock=df_financial_stock[['Date', 'Label', 'Close']]\n",
    "output1 = pd.merge(df_financial_news, df_financial_stock, \n",
    "                   on='Date', \n",
    "                   how='inner')\n",
    "\n",
    "print(output1)\n",
    "print('\\n\\n')\n",
    "print(output1['Label'].value_counts())\n",
    "output1.to_csv(f\"{cwd}/labelled_news.csv\")\n"
   ]
  }
 ],
 "metadata": {
  "kernelspec": {
   "display_name": "Python 3 (ipykernel)",
   "language": "python",
   "name": "python3"
  },
  "language_info": {
   "codemirror_mode": {
    "name": "ipython",
    "version": 3
   },
   "file_extension": ".py",
   "mimetype": "text/x-python",
   "name": "python",
   "nbconvert_exporter": "python",
   "pygments_lexer": "ipython3",
   "version": "3.9.7"
  },
  "vscode": {
   "interpreter": {
    "hash": "916dbcbb3f70747c44a77c7bcd40155683ae19c65e1c03b4aa3499c5328201f1"
   }
  }
 },
 "nbformat": 4,
 "nbformat_minor": 2
}
