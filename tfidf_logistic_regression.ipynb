{
 "cells": [
  {
   "cell_type": "code",
   "execution_count": 1,
   "metadata": {},
   "outputs": [],
   "source": [
    "import numpy as np\n",
    "import pandas as pd\n",
    "import os\n",
    "import nltk\n",
    "import scipy\n",
    "from nltk.tokenize import word_tokenize\n",
    "from nltk.corpus import stopwords\n",
    "from nltk.stem import WordNetLemmatizer, PorterStemmer\n",
    "from sklearn.model_selection import train_test_split\n",
    "from sklearn.feature_extraction.text import TfidfVectorizer\n",
    "from sklearn.linear_model import LogisticRegression\n",
    "from sklearn.metrics import accuracy_score, classification_report"
   ]
  },
  {
   "cell_type": "code",
   "execution_count": 2,
   "metadata": {},
   "outputs": [
    {
     "name": "stdout",
     "output_type": "stream",
     "text": [
      "<class 'pandas.core.frame.DataFrame'>\n",
      "RangeIndex: 4176 entries, 0 to 4175\n",
      "Data columns (total 5 columns):\n",
      " #   Column      Non-Null Count  Dtype  \n",
      "---  ------      --------------  -----  \n",
      " 0   Unnamed: 0  4176 non-null   int64  \n",
      " 1   Date        4176 non-null   object \n",
      " 2   Summary     4176 non-null   object \n",
      " 3   Label       4176 non-null   float64\n",
      " 4   Close       4176 non-null   float64\n",
      "dtypes: float64(2), int64(1), object(2)\n",
      "memory usage: 163.2+ KB\n"
     ]
    },
    {
     "data": {
      "text/plain": [
       "1.0    2208\n",
       "0.0    1968\n",
       "Name: Label, dtype: int64"
      ]
     },
     "execution_count": 2,
     "metadata": {},
     "output_type": "execute_result"
    }
   ],
   "source": [
    "cwd = os.getcwd()\n",
    "\n",
    "# Convert the data into Python dataframe.\n",
    "finance_dataset = pd.read_csv(f\"{cwd}/labelled_news.csv\")\n",
    "\n",
    "# total number of rows, each attribute type and number of non null values\n",
    "finance_dataset.info()\n",
    "\n",
    "# How many categories exists and how much data belong to each category\n",
    "finance_dataset['Label'].value_counts()"
   ]
  },
  {
   "cell_type": "code",
   "execution_count": 3,
   "metadata": {},
   "outputs": [],
   "source": [
    "def clean_data(data):\n",
    "    #removes the rows that contains NULL values and inplace modifies the original datset instead of creating anew one\n",
    "    summarised_data = data\n",
    "    summarised_data.dropna(inplace=True)\n",
    "    #Change all the text to lower case. This is required as python interprets lowercase and uppercase differently\n",
    "    summarised_data = [entry.lower() for entry in summarised_data]\n",
    "    #Tokenization : In this each entry in the corpus will be broken into set of words\n",
    "    summarised_data = [word_tokenize(entry) for entry in summarised_data]\n",
    "    #Remove stopwords\n",
    "    english_stop_words=set(stopwords.words(\"english\"))\n",
    "    summarised_data=list(map(lambda l: list(filter(lambda summarised_data: summarised_data not in english_stop_words, l)), summarised_data))\n",
    "    # Lemmatisation. This is required to convert the word into root form\n",
    "    wordnet_lemmatizer = WordNetLemmatizer()\n",
    "    summarised_data=list(map(lambda l: list(filter(lambda summarised_data: summarised_data in wordnet_lemmatizer.lemmatize(summarised_data), l)), summarised_data))\n",
    "    summarised_words_list = summarised_data\n",
    "    # convert list to string\n",
    "    summarised_data = [' '.join(map(str, l)) for l in summarised_data]\n",
    "    return summarised_data, summarised_words_list"
   ]
  },
  {
   "cell_type": "code",
   "execution_count": 4,
   "metadata": {},
   "outputs": [
    {
     "name": "stdout",
     "output_type": "stream",
     "text": [
      "<class 'pandas.core.frame.DataFrame'>\n",
      "RangeIndex: 4176 entries, 0 to 4175\n",
      "Data columns (total 7 columns):\n",
      " #   Column                   Non-Null Count  Dtype  \n",
      "---  ------                   --------------  -----  \n",
      " 0   Unnamed: 0               4176 non-null   int64  \n",
      " 1   Date                     4176 non-null   object \n",
      " 2   Summary                  4176 non-null   object \n",
      " 3   Label                    4176 non-null   float64\n",
      " 4   Close                    4176 non-null   float64\n",
      " 5   preprocessed_text        4176 non-null   object \n",
      " 6   preprocessed_words_list  4176 non-null   object \n",
      "dtypes: float64(2), int64(1), object(4)\n",
      "memory usage: 228.5+ KB\n"
     ]
    },
    {
     "data": {
      "text/plain": [
       "1.0    2208\n",
       "0.0    1968\n",
       "Name: Label, dtype: int64"
      ]
     },
     "execution_count": 4,
     "metadata": {},
     "output_type": "execute_result"
    }
   ],
   "source": [
    "summarised_data, summarised_words_list = clean_data(finance_dataset['Summary'])\n",
    "finance_dataset['preprocessed_text'] = summarised_data\n",
    "finance_dataset['preprocessed_words_list'] = summarised_words_list\n",
    "finance_dataset.info()\n",
    "finance_dataset['Label'].value_counts()"
   ]
  },
  {
   "cell_type": "code",
   "execution_count": 5,
   "metadata": {},
   "outputs": [
    {
     "data": {
      "text/plain": [
       "<AxesSubplot:>"
      ]
     },
     "execution_count": 5,
     "metadata": {},
     "output_type": "execute_result"
    },
    {
     "data": {
      "image/png": "[encoded data removed]",
      "text/plain": [
       "<Figure size 432x288 with 1 Axes>"
      ]
     },
     "metadata": {
      "needs_background": "light"
     },
     "output_type": "display_data"
    }
   ],
   "source": [
    "finance_dataset['Label'].hist()"
   ]
  },
  {
   "cell_type": "code",
   "execution_count": 6,
   "metadata": {},
   "outputs": [
    {
     "name": "stdout",
     "output_type": "stream",
     "text": [
      "X train size =  (3340,)\n",
      "Y train size =  (3340,)\n",
      "X test size =  (836,)\n",
      "Y test size =  (836,)\n"
     ]
    }
   ],
   "source": [
    "train, test = train_test_split(finance_dataset, test_size=0.2, random_state=7)\n",
    "\n",
    "# train = finance_dataset[finance_dataset['Date'] < '20180101']\n",
    "# test = finance_dataset[finance_dataset['Date'] > '20171231']\n",
    "x_train=train['preprocessed_text']\n",
    "y_train = train['Label']\n",
    "x_test=test['preprocessed_text']\n",
    "y_test = test['Label']\n",
    "print('X train size = ' , x_train.shape)\n",
    "print('Y train size = ' , y_train.shape)\n",
    "print('X test size = ' , x_test.shape)\n",
    "print('Y test size = ' , y_test.shape)"
   ]
  },
  {
   "cell_type": "code",
   "execution_count": 7,
   "metadata": {},
   "outputs": [],
   "source": [
    "## Tf-Idf\n",
    "finance_vectorizer = TfidfVectorizer(min_df=2, max_df=0.80, \n",
    "                              sublinear_tf=True, use_idf =True,       \n",
    "                              ngram_range = (1,3),\n",
    "                              stop_words = \"english\")\n",
    "\n",
    "\n",
    "x_train_tfidf = finance_vectorizer.fit_transform(x_train)\n",
    "x_test_tfidf = finance_vectorizer.transform(x_test)"
   ]
  },
  {
   "cell_type": "code",
   "execution_count": 8,
   "metadata": {},
   "outputs": [
    {
     "name": "stdout",
     "output_type": "stream",
     "text": [
      " Accuracy:  52.39\n",
      "\n",
      " Classification Report:\n",
      "               precision    recall  f1-score   support\n",
      "\n",
      "         0.0       0.47      0.36      0.41       380\n",
      "         1.0       0.55      0.66      0.60       456\n",
      "\n",
      "    accuracy                           0.52       836\n",
      "   macro avg       0.51      0.51      0.51       836\n",
      "weighted avg       0.52      0.52      0.51       836\n",
      "\n"
     ]
    }
   ],
   "source": [
    "# Baseline Random forest based Model\n",
    "lgc = LogisticRegression()\n",
    "lgc_model = lgc.fit(x_train_tfidf,y_train) # fit on training data\n",
    "\n",
    "\n",
    "####### Prediction ##########\n",
    "predictions = lgc_model.predict(x_test_tfidf)\n",
    "print(' Accuracy: ', round(accuracy_score(y_test, predictions)*100, 2))\n",
    "print('\\n Classification Report:\\n', classification_report(y_test,predictions))"
   ]
  }
 ],
 "metadata": {
  "kernelspec": {
   "display_name": "Python 3 (ipykernel)",
   "language": "python",
   "name": "python3"
  },
  "language_info": {
   "codemirror_mode": {
    "name": "ipython",
    "version": 3
   },
   "file_extension": ".py",
   "mimetype": "text/x-python",
   "name": "python",
   "nbconvert_exporter": "python",
   "pygments_lexer": "ipython3",
   "version": "3.9.7"
  },
  "vscode": {
   "interpreter": {
    "hash": "916dbcbb3f70747c44a77c7bcd40155683ae19c65e1c03b4aa3499c5328201f1"
   }
  }
 },
 "nbformat": 4,
 "nbformat_minor": 2
}
